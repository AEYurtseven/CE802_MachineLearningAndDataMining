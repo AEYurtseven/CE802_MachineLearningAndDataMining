{
 "cells": [
  {
   "cell_type": "code",
   "execution_count": 1,
   "metadata": {},
   "outputs": [],
   "source": [
    "import pandas as pd\n",
    "import numpy as np\n",
    "import matplotlib.pyplot as plt\n",
    "import seaborn as sns\n",
    "%matplotlib inline\n",
    "\n",
    "from sklearn.model_selection import KFold\n",
    "from sklearn.model_selection import GridSearchCV\n",
    "from sklearn import svm\n",
    "\n",
    "from sklearn.model_selection import cross_val_score\n",
    "from sklearn.model_selection import GridSearchCV\n",
    "from sklearn.metrics import classification_report,confusion_matrix\n",
    "\n",
    "from sklearn.pipeline import Pipeline\n",
    "from sklearn.preprocessing import StandardScaler\n",
    "\n",
    "from sklearn.model_selection import train_test_split\n",
    "\n",
    "from sklearn.impute import SimpleImputer"
   ]
  },
  {
   "cell_type": "code",
   "execution_count": 2,
   "metadata": {},
   "outputs": [
    {
     "name": "stdout",
     "output_type": "stream",
     "text": [
      "      F1      F2     F3     F4     F5      F6    F7    F8     F9   F10    F11  \\\n",
      "0     30  186.88 -21.06 -17.68  14.20  563.22 -3.29 -5.32 -18.90  9.20  -9.44   \n",
      "1     30  196.88 -22.89 -19.38  19.70  353.22 -5.71 -1.48 -18.33  7.15  -8.58   \n",
      "2     30   96.88 -19.65 -16.46  17.30  398.22 -5.19 -1.96 -14.64  7.10  -9.18   \n",
      "3      3  216.88 -33.24 -27.80   0.84  344.22 -0.86 -6.89 -14.73  0.09 -17.98   \n",
      "4      3  198.88 -32.52 -26.26   1.52  278.22  0.08 -7.73 -13.62  1.91 -23.94   \n",
      "...   ..     ...    ...    ...    ...     ...   ...   ...    ...   ...    ...   \n",
      "1495  30  266.88 -18.69 -17.30  14.70  383.22 -4.94 -3.05  -9.78  5.95 -14.20   \n",
      "1496  30  206.88 -22.35 -18.00  12.30  428.22 -3.27 -3.48  -8.46  9.20 -11.56   \n",
      "1497  30  106.88 -17.91 -17.48  13.50  623.22 -5.96 -2.59 -13.89  9.40  -7.06   \n",
      "1498  30  336.88 -23.73 -18.68  17.60  503.22 -5.01 -3.72  -7.98  6.50  -8.60   \n",
      "1499   3  218.88 -34.08 -26.14   1.18  335.22  0.77 -7.68 -15.21  1.43 -25.30   \n",
      "\n",
      "        F12    F13  F14   F15  Class  \n",
      "0     10.89  -8.54  510   NaN  False  \n",
      "1     15.89  -8.44  760  7.22  False  \n",
      "2     20.89  -8.79  610  7.69  False  \n",
      "3      7.89  -3.78   32   NaN  False  \n",
      "4      7.89  -3.25   36   NaN   True  \n",
      "...     ...    ...  ...   ...    ...  \n",
      "1495  20.89  -9.29  110  9.38   True  \n",
      "1496  30.89  -8.44  260  6.52  False  \n",
      "1497  20.89 -11.79  370   NaN   True  \n",
      "1498  30.89  -8.04  250   NaN  False  \n",
      "1499   9.89  -2.86   16  7.96   True  \n",
      "\n",
      "[1500 rows x 16 columns]\n"
     ]
    }
   ],
   "source": [
    "#Get the training Data\n",
    "TrainingData = pd.read_csv(\"CE802_P2_Data.csv\")\n",
    "#print TrainingData\n",
    "print(TrainingData)"
   ]
  },
  {
   "cell_type": "code",
   "execution_count": 3,
   "metadata": {},
   "outputs": [],
   "source": [
    "#Get the testing data\n",
    "TestingData = pd.read_csv(\"CE802_P2_Test.csv\")"
   ]
  },
  {
   "cell_type": "code",
   "execution_count": 4,
   "metadata": {},
   "outputs": [
    {
     "name": "stdout",
     "output_type": "stream",
     "text": [
      "      F1      F2     F3     F4     F5      F6    F7    F8     F9   F10    F11  \\\n",
      "0      0  196.88 -39.51 -24.76   1.80  284.22 -0.26 -9.05 -20.55  1.17 -22.02   \n",
      "1      3  196.88 -31.74 -31.54   1.48  368.22 -0.90 -6.35 -12.63  1.64 -18.34   \n",
      "2      3  160.88 -33.09 -25.76   1.74  329.22  1.45 -6.55 -18.33  1.30 -19.48   \n",
      "3     30  206.88 -20.19 -24.48  13.50  563.22 -3.24 -2.30 -13.56  5.50  -8.58   \n",
      "4      3  218.88 -33.51 -33.38   0.68  263.22  1.41 -6.80 -22.26  1.01 -22.90   \n",
      "...   ..     ...    ...    ...    ...     ...   ...   ...    ...   ...    ...   \n",
      "1495  30   26.88 -29.04 -21.62  10.60  758.22 -2.31 -4.86 -13.95  6.80 -15.76   \n",
      "1496   0  202.88 -37.32 -25.78   0.36  371.22  2.04 -9.52 -16.05  1.17 -26.78   \n",
      "1497  30   16.88 -27.69 -23.38  10.50  683.22 -2.46 -3.86 -21.75  8.40 -12.52   \n",
      "1498   0  174.88 -35.70 -25.64   1.76  239.22 -0.64 -7.08 -12.57  1.70 -17.44   \n",
      "1499  30  146.88 -17.13 -20.28  15.40  623.22 -0.40 -2.22 -12.60  6.25 -11.50   \n",
      "\n",
      "        F12    F13  F14   F15  Class  \n",
      "0      7.89  -3.38    2   NaN    NaN  \n",
      "1      7.89  -3.77   10  8.81    NaN  \n",
      "2      7.89  -3.51   98   NaN    NaN  \n",
      "3     30.89  -9.49  270   NaN    NaN  \n",
      "4      7.89  -3.56  106  7.28    NaN  \n",
      "...     ...    ...  ...   ...    ...  \n",
      "1495  20.89  -8.29  120   NaN    NaN  \n",
      "1496   7.89  -3.70   24  7.77    NaN  \n",
      "1497  10.89  -8.39  160  7.16    NaN  \n",
      "1498   7.89  -3.29   40   NaN    NaN  \n",
      "1499  10.89 -10.24  220   NaN    NaN  \n",
      "\n",
      "[1500 rows x 16 columns]\n"
     ]
    }
   ],
   "source": [
    "print(TestingData)"
   ]
  },
  {
   "cell_type": "code",
   "execution_count": 5,
   "metadata": {},
   "outputs": [],
   "source": [
    "#imp = SimpleImputer(missing_values=np.nan, strategy='mean')\n",
    "#imp = imp.fit(TestingData[['F15']])\n",
    "#TestingData['F15'] = imp.transform(TestingData[['F15']])"
   ]
  },
  {
   "cell_type": "code",
   "execution_count": 6,
   "metadata": {},
   "outputs": [
    {
     "name": "stdout",
     "output_type": "stream",
     "text": [
      "      F1      F2     F3     F4     F5      F6    F7    F8     F9   F10    F11  \\\n",
      "0     30  186.88 -21.06 -17.68  14.20  563.22 -3.29 -5.32 -18.90  9.20  -9.44   \n",
      "1     30  196.88 -22.89 -19.38  19.70  353.22 -5.71 -1.48 -18.33  7.15  -8.58   \n",
      "2     30   96.88 -19.65 -16.46  17.30  398.22 -5.19 -1.96 -14.64  7.10  -9.18   \n",
      "3      3  216.88 -33.24 -27.80   0.84  344.22 -0.86 -6.89 -14.73  0.09 -17.98   \n",
      "4      3  198.88 -32.52 -26.26   1.52  278.22  0.08 -7.73 -13.62  1.91 -23.94   \n",
      "...   ..     ...    ...    ...    ...     ...   ...   ...    ...   ...    ...   \n",
      "1495  30  266.88 -18.69 -17.30  14.70  383.22 -4.94 -3.05  -9.78  5.95 -14.20   \n",
      "1496  30  206.88 -22.35 -18.00  12.30  428.22 -3.27 -3.48  -8.46  9.20 -11.56   \n",
      "1497  30  106.88 -17.91 -17.48  13.50  623.22 -5.96 -2.59 -13.89  9.40  -7.06   \n",
      "1498  30  336.88 -23.73 -18.68  17.60  503.22 -5.01 -3.72  -7.98  6.50  -8.60   \n",
      "1499   3  218.88 -34.08 -26.14   1.18  335.22  0.77 -7.68 -15.21  1.43 -25.30   \n",
      "\n",
      "        F12    F13  F14   F15  Class  \n",
      "0     10.89  -8.54  510   NaN  False  \n",
      "1     15.89  -8.44  760  7.22  False  \n",
      "2     20.89  -8.79  610  7.69  False  \n",
      "3      7.89  -3.78   32   NaN  False  \n",
      "4      7.89  -3.25   36   NaN   True  \n",
      "...     ...    ...  ...   ...    ...  \n",
      "1495  20.89  -9.29  110  9.38   True  \n",
      "1496  30.89  -8.44  260  6.52  False  \n",
      "1497  20.89 -11.79  370   NaN   True  \n",
      "1498  30.89  -8.04  250   NaN  False  \n",
      "1499   9.89  -2.86   16  7.96   True  \n",
      "\n",
      "[1500 rows x 16 columns]\n"
     ]
    }
   ],
   "source": [
    "print(TrainingData)"
   ]
  },
  {
   "cell_type": "code",
   "execution_count": 7,
   "metadata": {},
   "outputs": [
    {
     "name": "stdout",
     "output_type": "stream",
     "text": [
      "      F1      F2     F3     F4     F5      F6    F7    F8     F9   F10    F11  \\\n",
      "0      0  196.88 -39.51 -24.76   1.80  284.22 -0.26 -9.05 -20.55  1.17 -22.02   \n",
      "1      3  196.88 -31.74 -31.54   1.48  368.22 -0.90 -6.35 -12.63  1.64 -18.34   \n",
      "2      3  160.88 -33.09 -25.76   1.74  329.22  1.45 -6.55 -18.33  1.30 -19.48   \n",
      "3     30  206.88 -20.19 -24.48  13.50  563.22 -3.24 -2.30 -13.56  5.50  -8.58   \n",
      "4      3  218.88 -33.51 -33.38   0.68  263.22  1.41 -6.80 -22.26  1.01 -22.90   \n",
      "...   ..     ...    ...    ...    ...     ...   ...   ...    ...   ...    ...   \n",
      "1495  30   26.88 -29.04 -21.62  10.60  758.22 -2.31 -4.86 -13.95  6.80 -15.76   \n",
      "1496   0  202.88 -37.32 -25.78   0.36  371.22  2.04 -9.52 -16.05  1.17 -26.78   \n",
      "1497  30   16.88 -27.69 -23.38  10.50  683.22 -2.46 -3.86 -21.75  8.40 -12.52   \n",
      "1498   0  174.88 -35.70 -25.64   1.76  239.22 -0.64 -7.08 -12.57  1.70 -17.44   \n",
      "1499  30  146.88 -17.13 -20.28  15.40  623.22 -0.40 -2.22 -12.60  6.25 -11.50   \n",
      "\n",
      "        F12    F13  F14   F15  Class  \n",
      "0      7.89  -3.38    2   NaN    NaN  \n",
      "1      7.89  -3.77   10  8.81    NaN  \n",
      "2      7.89  -3.51   98   NaN    NaN  \n",
      "3     30.89  -9.49  270   NaN    NaN  \n",
      "4      7.89  -3.56  106  7.28    NaN  \n",
      "...     ...    ...  ...   ...    ...  \n",
      "1495  20.89  -8.29  120   NaN    NaN  \n",
      "1496   7.89  -3.70   24  7.77    NaN  \n",
      "1497  10.89  -8.39  160  7.16    NaN  \n",
      "1498   7.89  -3.29   40   NaN    NaN  \n",
      "1499  10.89 -10.24  220   NaN    NaN  \n",
      "\n",
      "[1500 rows x 16 columns]\n"
     ]
    }
   ],
   "source": [
    "print(TestingData)"
   ]
  },
  {
   "cell_type": "code",
   "execution_count": 8,
   "metadata": {},
   "outputs": [
    {
     "name": "stdout",
     "output_type": "stream",
     "text": [
      "<class 'pandas.core.frame.DataFrame'>\n",
      "RangeIndex: 1500 entries, 0 to 1499\n",
      "Data columns (total 16 columns):\n",
      " #   Column  Non-Null Count  Dtype  \n",
      "---  ------  --------------  -----  \n",
      " 0   F1      1500 non-null   int64  \n",
      " 1   F2      1500 non-null   float64\n",
      " 2   F3      1500 non-null   float64\n",
      " 3   F4      1500 non-null   float64\n",
      " 4   F5      1500 non-null   float64\n",
      " 5   F6      1500 non-null   float64\n",
      " 6   F7      1500 non-null   float64\n",
      " 7   F8      1500 non-null   float64\n",
      " 8   F9      1500 non-null   float64\n",
      " 9   F10     1500 non-null   float64\n",
      " 10  F11     1500 non-null   float64\n",
      " 11  F12     1500 non-null   float64\n",
      " 12  F13     1500 non-null   float64\n",
      " 13  F14     1500 non-null   int64  \n",
      " 14  F15     750 non-null    float64\n",
      " 15  Class   1500 non-null   bool   \n",
      "dtypes: bool(1), float64(13), int64(2)\n",
      "memory usage: 177.4 KB\n"
     ]
    }
   ],
   "source": [
    "TrainingData.info()"
   ]
  },
  {
   "cell_type": "code",
   "execution_count": 9,
   "metadata": {},
   "outputs": [
    {
     "name": "stdout",
     "output_type": "stream",
     "text": [
      "<class 'pandas.core.frame.DataFrame'>\n",
      "RangeIndex: 1500 entries, 0 to 1499\n",
      "Data columns (total 16 columns):\n",
      " #   Column  Non-Null Count  Dtype  \n",
      "---  ------  --------------  -----  \n",
      " 0   F1      1500 non-null   int64  \n",
      " 1   F2      1500 non-null   float64\n",
      " 2   F3      1500 non-null   float64\n",
      " 3   F4      1500 non-null   float64\n",
      " 4   F5      1500 non-null   float64\n",
      " 5   F6      1500 non-null   float64\n",
      " 6   F7      1500 non-null   float64\n",
      " 7   F8      1500 non-null   float64\n",
      " 8   F9      1500 non-null   float64\n",
      " 9   F10     1500 non-null   float64\n",
      " 10  F11     1500 non-null   float64\n",
      " 11  F12     1500 non-null   float64\n",
      " 12  F13     1500 non-null   float64\n",
      " 13  F14     1500 non-null   int64  \n",
      " 14  F15     750 non-null    float64\n",
      " 15  Class   0 non-null      float64\n",
      "dtypes: float64(14), int64(2)\n",
      "memory usage: 187.6 KB\n"
     ]
    }
   ],
   "source": [
    "TestingData.info()"
   ]
  },
  {
   "cell_type": "code",
   "execution_count": 10,
   "metadata": {},
   "outputs": [],
   "source": [
    "#X_train will be features of the X_train\n",
    "X_train = TrainingData.drop('Class',axis=1)\n",
    "#y_train will be values/classes of the x_train\n",
    "y_train = TrainingData['Class']\n",
    "\n",
    "#X_train will be features of the X_test\n",
    "X_test = TestingData.drop('Class',axis=1)\n",
    "#y_test will be values/classes of the X_test\n",
    "y_test = TestingData['Class']"
   ]
  },
  {
   "cell_type": "code",
   "execution_count": null,
   "metadata": {},
   "outputs": [],
   "source": []
  },
  {
   "cell_type": "code",
   "execution_count": 16,
   "metadata": {
    "scrolled": true
   },
   "outputs": [
    {
     "name": "stdout",
     "output_type": "stream",
     "text": [
      "              precision    recall  f1-score   support\n",
      "\n",
      "       False       0.90      0.89      0.90       244\n",
      "        True       0.88      0.89      0.88       206\n",
      "\n",
      "    accuracy                           0.89       450\n",
      "   macro avg       0.89      0.89      0.89       450\n",
      "weighted avg       0.89      0.89      0.89       450\n",
      "\n"
     ]
    }
   ],
   "source": [
    "#Split training data containing to these X__train, X__test, y__train, y__test\n",
    "X__train, X__test, y__train, y__test = train_test_split(X_train, y_train, test_size=0.30, random_state=101)\n",
    "#StandardScaler\n",
    "sc = StandardScaler()\n",
    "#Get the SimpleImputer class, missing_values parameters will be seen as np.nan and strategy will be mean which means\n",
    "#missing data in a column will be replaced with mean of the column\n",
    "imp = SimpleImputer(missing_values=np.nan, strategy='mean')\n",
    "#Use support vector classfier and make C = 1000 \n",
    "clf = svm.SVC(C=1000)\n",
    "#Used pipeline here, what will happen is that first fill the missing values, scaledown the values then use the classifier\n",
    "#pipeline will be used in later line\n",
    "pipe = Pipeline(steps=[('imputer',imp),('scaler', sc), ('classifier', clf)])\n",
    "#parameters\n",
    "param_grid = {\n",
    "    'scaler__with_std': [True, False],\n",
    "    'classifier__gamma': np.logspace(-2, -1, 1),\n",
    "}\n",
    "#pipline and parameters will be used here\n",
    "search = GridSearchCV(pipe, param_grid, n_jobs=-1,cv = 10)\n",
    "#fit the model\n",
    "search.fit(X__train, y__train)\n",
    "#make predictions for training data\n",
    "grid_predictions = search.predict(X__test)\n",
    "#This line was for testing that if every thing works fine\n",
    "print(classification_report(y__test,grid_predictions))\n",
    "\n"
   ]
  },
  {
   "cell_type": "code",
   "execution_count": 12,
   "metadata": {},
   "outputs": [
    {
     "data": {
      "text/plain": [
       "dict_keys(['C', 'break_ties', 'cache_size', 'class_weight', 'coef0', 'decision_function_shape', 'degree', 'gamma', 'kernel', 'max_iter', 'probability', 'random_state', 'shrinking', 'tol', 'verbose'])"
      ]
     },
     "execution_count": 12,
     "metadata": {},
     "output_type": "execute_result"
    }
   ],
   "source": [
    "clf.get_params().keys()"
   ]
  },
  {
   "cell_type": "code",
   "execution_count": 13,
   "metadata": {},
   "outputs": [],
   "source": [
    "#make predictions for testing data\n",
    "y_test = search.predict(X_test)"
   ]
  },
  {
   "cell_type": "code",
   "execution_count": 14,
   "metadata": {},
   "outputs": [
    {
     "name": "stdout",
     "output_type": "stream",
     "text": [
      "[ True  True False ... False  True  True]\n"
     ]
    }
   ],
   "source": [
    "#Look at the predictions\n",
    "print(y_test)"
   ]
  },
  {
   "cell_type": "code",
   "execution_count": null,
   "metadata": {},
   "outputs": [],
   "source": []
  },
  {
   "cell_type": "code",
   "execution_count": null,
   "metadata": {},
   "outputs": [],
   "source": []
  },
  {
   "cell_type": "code",
   "execution_count": null,
   "metadata": {},
   "outputs": [],
   "source": []
  },
  {
   "cell_type": "code",
   "execution_count": null,
   "metadata": {},
   "outputs": [],
   "source": []
  },
  {
   "cell_type": "code",
   "execution_count": null,
   "metadata": {},
   "outputs": [],
   "source": []
  },
  {
   "cell_type": "code",
   "execution_count": null,
   "metadata": {},
   "outputs": [],
   "source": []
  }
 ],
 "metadata": {
  "kernelspec": {
   "display_name": "Python 3",
   "language": "python",
   "name": "python3"
  },
  "language_info": {
   "codemirror_mode": {
    "name": "ipython",
    "version": 3
   },
   "file_extension": ".py",
   "mimetype": "text/x-python",
   "name": "python",
   "nbconvert_exporter": "python",
   "pygments_lexer": "ipython3",
   "version": "3.7.6"
  }
 },
 "nbformat": 4,
 "nbformat_minor": 4
}
