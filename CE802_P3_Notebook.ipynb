{
 "cells": [
  {
   "cell_type": "code",
   "execution_count": 1,
   "metadata": {},
   "outputs": [],
   "source": [
    "#https://blog.quantinsti.com/linear-regression-models-scikit-learn/#dataset-scikit\n",
    "\n",
    "#Pandas and numpy are used for data manipulation\n",
    "import pandas as pd\n",
    "import numpy as np\n",
    "\n",
    "#matplotlib.pyplot is used to create plot\n",
    "import matplotlib.pyplot as plt\n",
    "%matplotlib inline\n",
    "\n",
    "#train_test_split splits dataset to training and test data and able to randomize the data\n",
    "from sklearn.model_selection import train_test_split\n",
    "\n",
    "#Metrics which include MSE: Mean squared error, mae: mean absolute error\n",
    "from sklearn import metrics\n",
    "\n",
    "#GridSearchCV is a classifier which have important use for the project and also have ability to do cross-validation\n",
    "from sklearn.model_selection import GridSearchCV\n",
    "\n",
    "\n",
    "#Pipeline is an object able developer to do preprocessing and then use the machine learning algorithm\n",
    "from sklearn.pipeline import Pipeline\n",
    "#Scaledown the values in the data\n",
    "from sklearn.preprocessing import StandardScaler\n",
    "\n",
    "#https://github.com/justmarkham/scikit-learn-videos/blob/master/10_categorical_features.ipynb\n",
    "from sklearn.preprocessing import OneHotEncoder\n",
    "\n",
    "#Deal with non-numeric data and convert them to numeric data\n",
    "from sklearn.compose import make_column_transformer\n"
   ]
  },
  {
   "cell_type": "code",
   "execution_count": 2,
   "metadata": {},
   "outputs": [],
   "source": [
    "#Get the training data\n",
    "Data = pd.read_csv(\"CE802_P3_Data.csv\")"
   ]
  },
  {
   "cell_type": "code",
   "execution_count": 3,
   "metadata": {},
   "outputs": [],
   "source": [
    "X = Data.drop('Target',axis=1)\n",
    "y = Data['Target']"
   ]
  },
  {
   "cell_type": "code",
   "execution_count": 4,
   "metadata": {},
   "outputs": [
    {
     "data": {
      "text/plain": [
       "array([[0., 0., 1., 0.],\n",
       "       [1., 0., 0., 0.],\n",
       "       [0., 0., 1., 0.],\n",
       "       ...,\n",
       "       [0., 0., 1., 0.],\n",
       "       [1., 0., 0., 0.],\n",
       "       [0., 0., 0., 1.]])"
      ]
     },
     "execution_count": 4,
     "metadata": {},
     "output_type": "execute_result"
    }
   ],
   "source": [
    "#Initiate OneHotEncoder object to deal with non-numeric data and convert them to numeric data\n",
    "ohe = OneHotEncoder(sparse=False)\n",
    "#show how data in F1 will converted \n",
    "ohe.fit_transform(X[['F1']])"
   ]
  },
  {
   "cell_type": "code",
   "execution_count": 5,
   "metadata": {},
   "outputs": [
    {
     "data": {
      "text/plain": [
       "[array(['Europe', 'Rest', 'UK', 'USA'], dtype=object)]"
      ]
     },
     "execution_count": 5,
     "metadata": {},
     "output_type": "execute_result"
    }
   ],
   "source": [
    "#Which non numeric data will be converted in F1\n",
    "ohe.categories_"
   ]
  },
  {
   "cell_type": "code",
   "execution_count": 6,
   "metadata": {},
   "outputs": [
    {
     "data": {
      "text/plain": [
       "array([[0., 0., 0., 0., 1.],\n",
       "       [0., 0., 0., 1., 0.],\n",
       "       [0., 0., 1., 0., 0.],\n",
       "       ...,\n",
       "       [0., 1., 0., 0., 0.],\n",
       "       [0., 0., 0., 0., 1.],\n",
       "       [0., 0., 0., 0., 1.]])"
      ]
     },
     "execution_count": 6,
     "metadata": {},
     "output_type": "execute_result"
    }
   ],
   "source": [
    "#show how data in F10 will converted \n",
    "ohe.fit_transform(X[['F10']])"
   ]
  },
  {
   "cell_type": "code",
   "execution_count": 7,
   "metadata": {},
   "outputs": [
    {
     "data": {
      "text/plain": [
       "[array(['High', 'Low', 'Medium', 'Very high', 'Very low'], dtype=object)]"
      ]
     },
     "execution_count": 7,
     "metadata": {},
     "output_type": "execute_result"
    }
   ],
   "source": [
    "#Which non numeric data will be converted in F10\n",
    "ohe.categories_"
   ]
  },
  {
   "cell_type": "code",
   "execution_count": 8,
   "metadata": {},
   "outputs": [],
   "source": [
    "#column_trans variable will transform the columns. Paramters are for this case :\n",
    "#OneHotEncoder() : This will be used to convert non numeric data to numeric data\n",
    "#['F1', 'F10'] : Name of the columns will be worked on\n",
    "column_trans = make_column_transformer(\n",
    "    (OneHotEncoder(), ['F1', 'F10']),\n",
    "    remainder='passthrough')"
   ]
  },
  {
   "cell_type": "code",
   "execution_count": 9,
   "metadata": {},
   "outputs": [],
   "source": [
    "#ohe.fit_transform(X[['F1', 'F10']])"
   ]
  },
  {
   "cell_type": "code",
   "execution_count": 10,
   "metadata": {},
   "outputs": [
    {
     "data": {
      "text/html": [
       "<div>\n",
       "<style scoped>\n",
       "    .dataframe tbody tr th:only-of-type {\n",
       "        vertical-align: middle;\n",
       "    }\n",
       "\n",
       "    .dataframe tbody tr th {\n",
       "        vertical-align: top;\n",
       "    }\n",
       "\n",
       "    .dataframe thead th {\n",
       "        text-align: right;\n",
       "    }\n",
       "</style>\n",
       "<table border=\"1\" class=\"dataframe\">\n",
       "  <thead>\n",
       "    <tr style=\"text-align: right;\">\n",
       "      <th></th>\n",
       "      <th>F1</th>\n",
       "      <th>F2</th>\n",
       "      <th>F3</th>\n",
       "      <th>F4</th>\n",
       "      <th>F5</th>\n",
       "      <th>F6</th>\n",
       "      <th>F7</th>\n",
       "      <th>F8</th>\n",
       "      <th>F9</th>\n",
       "      <th>F10</th>\n",
       "      <th>F11</th>\n",
       "      <th>F12</th>\n",
       "      <th>F13</th>\n",
       "      <th>F14</th>\n",
       "      <th>F15</th>\n",
       "      <th>F16</th>\n",
       "    </tr>\n",
       "  </thead>\n",
       "  <tbody>\n",
       "    <tr>\n",
       "      <th>0</th>\n",
       "      <td>UK</td>\n",
       "      <td>258.63</td>\n",
       "      <td>-162.72</td>\n",
       "      <td>-2229.84</td>\n",
       "      <td>31489.95</td>\n",
       "      <td>2.52</td>\n",
       "      <td>192.26</td>\n",
       "      <td>-11.99</td>\n",
       "      <td>12</td>\n",
       "      <td>Very low</td>\n",
       "      <td>280.78</td>\n",
       "      <td>11.44</td>\n",
       "      <td>-4.77</td>\n",
       "      <td>52.05</td>\n",
       "      <td>171.46</td>\n",
       "      <td>6</td>\n",
       "    </tr>\n",
       "    <tr>\n",
       "      <th>1</th>\n",
       "      <td>Europe</td>\n",
       "      <td>1033.35</td>\n",
       "      <td>-105.16</td>\n",
       "      <td>-2786.58</td>\n",
       "      <td>24534.99</td>\n",
       "      <td>7.18</td>\n",
       "      <td>46.52</td>\n",
       "      <td>-10.66</td>\n",
       "      <td>15</td>\n",
       "      <td>Very high</td>\n",
       "      <td>0.02</td>\n",
       "      <td>7.78</td>\n",
       "      <td>-6.82</td>\n",
       "      <td>26.49</td>\n",
       "      <td>119.34</td>\n",
       "      <td>4</td>\n",
       "    </tr>\n",
       "    <tr>\n",
       "      <th>2</th>\n",
       "      <td>UK</td>\n",
       "      <td>-1207.47</td>\n",
       "      <td>-112.02</td>\n",
       "      <td>-3162.63</td>\n",
       "      <td>23017.47</td>\n",
       "      <td>3.85</td>\n",
       "      <td>71.06</td>\n",
       "      <td>-4.24</td>\n",
       "      <td>24</td>\n",
       "      <td>Medium</td>\n",
       "      <td>16.32</td>\n",
       "      <td>8.14</td>\n",
       "      <td>-0.91</td>\n",
       "      <td>26.97</td>\n",
       "      <td>15.96</td>\n",
       "      <td>7</td>\n",
       "    </tr>\n",
       "    <tr>\n",
       "      <th>3</th>\n",
       "      <td>USA</td>\n",
       "      <td>-1090.17</td>\n",
       "      <td>-99.53</td>\n",
       "      <td>-3784.14</td>\n",
       "      <td>25597.56</td>\n",
       "      <td>1.18</td>\n",
       "      <td>-8.54</td>\n",
       "      <td>-4.70</td>\n",
       "      <td>18</td>\n",
       "      <td>High</td>\n",
       "      <td>1.08</td>\n",
       "      <td>2.28</td>\n",
       "      <td>-8.12</td>\n",
       "      <td>35.34</td>\n",
       "      <td>176.32</td>\n",
       "      <td>1</td>\n",
       "    </tr>\n",
       "    <tr>\n",
       "      <th>4</th>\n",
       "      <td>Europe</td>\n",
       "      <td>-2191.02</td>\n",
       "      <td>-69.12</td>\n",
       "      <td>-2956.14</td>\n",
       "      <td>24770.94</td>\n",
       "      <td>6.22</td>\n",
       "      <td>55.22</td>\n",
       "      <td>-7.82</td>\n",
       "      <td>9</td>\n",
       "      <td>Low</td>\n",
       "      <td>134.62</td>\n",
       "      <td>13.82</td>\n",
       "      <td>-5.92</td>\n",
       "      <td>31.47</td>\n",
       "      <td>117.94</td>\n",
       "      <td>4</td>\n",
       "    </tr>\n",
       "    <tr>\n",
       "      <th>...</th>\n",
       "      <td>...</td>\n",
       "      <td>...</td>\n",
       "      <td>...</td>\n",
       "      <td>...</td>\n",
       "      <td>...</td>\n",
       "      <td>...</td>\n",
       "      <td>...</td>\n",
       "      <td>...</td>\n",
       "      <td>...</td>\n",
       "      <td>...</td>\n",
       "      <td>...</td>\n",
       "      <td>...</td>\n",
       "      <td>...</td>\n",
       "      <td>...</td>\n",
       "      <td>...</td>\n",
       "      <td>...</td>\n",
       "    </tr>\n",
       "    <tr>\n",
       "      <th>1495</th>\n",
       "      <td>UK</td>\n",
       "      <td>-1248.72</td>\n",
       "      <td>-93.65</td>\n",
       "      <td>-2419.56</td>\n",
       "      <td>28588.14</td>\n",
       "      <td>2.08</td>\n",
       "      <td>130.12</td>\n",
       "      <td>-9.01</td>\n",
       "      <td>3</td>\n",
       "      <td>Low</td>\n",
       "      <td>18.42</td>\n",
       "      <td>9.20</td>\n",
       "      <td>-12.87</td>\n",
       "      <td>35.25</td>\n",
       "      <td>175.56</td>\n",
       "      <td>1</td>\n",
       "    </tr>\n",
       "    <tr>\n",
       "      <th>1496</th>\n",
       "      <td>UK</td>\n",
       "      <td>-276.99</td>\n",
       "      <td>-57.89</td>\n",
       "      <td>-1997.25</td>\n",
       "      <td>7154.19</td>\n",
       "      <td>6.49</td>\n",
       "      <td>-66.84</td>\n",
       "      <td>-5.33</td>\n",
       "      <td>9</td>\n",
       "      <td>Very low</td>\n",
       "      <td>1.54</td>\n",
       "      <td>20.24</td>\n",
       "      <td>0.82</td>\n",
       "      <td>53.55</td>\n",
       "      <td>142.92</td>\n",
       "      <td>3</td>\n",
       "    </tr>\n",
       "    <tr>\n",
       "      <th>1497</th>\n",
       "      <td>UK</td>\n",
       "      <td>-747.84</td>\n",
       "      <td>-106.24</td>\n",
       "      <td>-2464.02</td>\n",
       "      <td>8831.85</td>\n",
       "      <td>8.65</td>\n",
       "      <td>5.54</td>\n",
       "      <td>-3.01</td>\n",
       "      <td>15</td>\n",
       "      <td>Low</td>\n",
       "      <td>25.62</td>\n",
       "      <td>1.06</td>\n",
       "      <td>-9.41</td>\n",
       "      <td>30.60</td>\n",
       "      <td>114.14</td>\n",
       "      <td>5</td>\n",
       "    </tr>\n",
       "    <tr>\n",
       "      <th>1498</th>\n",
       "      <td>Europe</td>\n",
       "      <td>-893.10</td>\n",
       "      <td>-91.75</td>\n",
       "      <td>-2025.12</td>\n",
       "      <td>26506.41</td>\n",
       "      <td>6.31</td>\n",
       "      <td>24.38</td>\n",
       "      <td>-7.37</td>\n",
       "      <td>12</td>\n",
       "      <td>Very low</td>\n",
       "      <td>0.10</td>\n",
       "      <td>1.58</td>\n",
       "      <td>2.33</td>\n",
       "      <td>42.78</td>\n",
       "      <td>160.06</td>\n",
       "      <td>3</td>\n",
       "    </tr>\n",
       "    <tr>\n",
       "      <th>1499</th>\n",
       "      <td>USA</td>\n",
       "      <td>-1338.42</td>\n",
       "      <td>-113.49</td>\n",
       "      <td>-3532.80</td>\n",
       "      <td>20594.46</td>\n",
       "      <td>4.11</td>\n",
       "      <td>1.32</td>\n",
       "      <td>-6.09</td>\n",
       "      <td>0</td>\n",
       "      <td>Very low</td>\n",
       "      <td>0.02</td>\n",
       "      <td>7.20</td>\n",
       "      <td>-10.25</td>\n",
       "      <td>5.40</td>\n",
       "      <td>141.96</td>\n",
       "      <td>4</td>\n",
       "    </tr>\n",
       "  </tbody>\n",
       "</table>\n",
       "<p>1500 rows × 16 columns</p>\n",
       "</div>"
      ],
      "text/plain": [
       "          F1       F2      F3       F4        F5    F6      F7     F8  F9  \\\n",
       "0         UK   258.63 -162.72 -2229.84  31489.95  2.52  192.26 -11.99  12   \n",
       "1     Europe  1033.35 -105.16 -2786.58  24534.99  7.18   46.52 -10.66  15   \n",
       "2         UK -1207.47 -112.02 -3162.63  23017.47  3.85   71.06  -4.24  24   \n",
       "3        USA -1090.17  -99.53 -3784.14  25597.56  1.18   -8.54  -4.70  18   \n",
       "4     Europe -2191.02  -69.12 -2956.14  24770.94  6.22   55.22  -7.82   9   \n",
       "...      ...      ...     ...      ...       ...   ...     ...    ...  ..   \n",
       "1495      UK -1248.72  -93.65 -2419.56  28588.14  2.08  130.12  -9.01   3   \n",
       "1496      UK  -276.99  -57.89 -1997.25   7154.19  6.49  -66.84  -5.33   9   \n",
       "1497      UK  -747.84 -106.24 -2464.02   8831.85  8.65    5.54  -3.01  15   \n",
       "1498  Europe  -893.10  -91.75 -2025.12  26506.41  6.31   24.38  -7.37  12   \n",
       "1499     USA -1338.42 -113.49 -3532.80  20594.46  4.11    1.32  -6.09   0   \n",
       "\n",
       "            F10     F11    F12    F13    F14     F15  F16  \n",
       "0      Very low  280.78  11.44  -4.77  52.05  171.46    6  \n",
       "1     Very high    0.02   7.78  -6.82  26.49  119.34    4  \n",
       "2        Medium   16.32   8.14  -0.91  26.97   15.96    7  \n",
       "3          High    1.08   2.28  -8.12  35.34  176.32    1  \n",
       "4           Low  134.62  13.82  -5.92  31.47  117.94    4  \n",
       "...         ...     ...    ...    ...    ...     ...  ...  \n",
       "1495        Low   18.42   9.20 -12.87  35.25  175.56    1  \n",
       "1496   Very low    1.54  20.24   0.82  53.55  142.92    3  \n",
       "1497        Low   25.62   1.06  -9.41  30.60  114.14    5  \n",
       "1498   Very low    0.10   1.58   2.33  42.78  160.06    3  \n",
       "1499   Very low    0.02   7.20 -10.25   5.40  141.96    4  \n",
       "\n",
       "[1500 rows x 16 columns]"
      ]
     },
     "execution_count": 10,
     "metadata": {},
     "output_type": "execute_result"
    }
   ],
   "source": [
    "X"
   ]
  },
  {
   "cell_type": "code",
   "execution_count": 11,
   "metadata": {},
   "outputs": [
    {
     "name": "stdout",
     "output_type": "stream",
     "text": [
      "MAE for linear regression: 388.84391489648175\n",
      "MSE for linear regression: 234078.0247029169\n",
      "RMSE for linear regression: 483.81610628721\n"
     ]
    },
    {
     "data": {
      "text/plain": [
       "<matplotlib.collections.PathCollection at 0x271c9265a88>"
      ]
     },
     "execution_count": 11,
     "metadata": {},
     "output_type": "execute_result"
    },
    {
     "data": {
      "image/png": "[encoded data removed]",
      "text/plain": [
       "<Figure size 432x288 with 1 Axes>"
      ]
     },
     "metadata": {
      "needs_background": "light"
     },
     "output_type": "display_data"
    }
   ],
   "source": [
    "#split the data to train and test data\n",
    "X_train,X_test,y_train,y_test = train_test_split(X,y,test_size=0.3,random_state = 101)\n",
    "#import LinearRegression object to do linear regression\n",
    "from sklearn.linear_model import LinearRegression\n",
    "#Initiate linear regression\n",
    "multiple_lr = LinearRegression()\n",
    "#Initiate the pipeline where the preprocessing will happen\n",
    "pipe = Pipeline(steps=[('trans',column_trans),('scaler',StandardScaler()), ('classifier', multiple_lr)])\n",
    "#Paramters which this case will use default paramters\n",
    "param_grid = {}\n",
    "#Initiate GridSearchCV. Paramters are:\n",
    "#pipe which is the pipeline will be used\n",
    "#param_grid which is empty because default paramters will be used\n",
    "#cv = 10 means there will be 10 fold cross-validation happen\n",
    "linear_gscv = GridSearchCV(pipe, param_grid, cv=10 , refit = True)\n",
    "#Fit the data\n",
    "pipe.fit(X_train,y_train)\n",
    "#Make prediction \n",
    "predictions= pipe.predict(X_test)\n",
    "#Show the assesment here\n",
    "print('MAE for linear regression:', metrics.mean_absolute_error(y_test, predictions))\n",
    "print('MSE for linear regression:', metrics.mean_squared_error(y_test, predictions))\n",
    "print('RMSE for linear regression:', np.sqrt(metrics.mean_squared_error(y_test, predictions)))\n",
    "plt.title('linear regression : Actual values (x values) vs Predicted Values (y values)')\n",
    "plt.scatter(y_test,predictions)"
   ]
  },
  {
   "cell_type": "code",
   "execution_count": 12,
   "metadata": {},
   "outputs": [
    {
     "name": "stdout",
     "output_type": "stream",
     "text": [
      "MAE for Gradient boosting regression: 337.65012429184793\n",
      "MSE for Gradient boosting regression: 227852.3901752981\n",
      "RMSE for Gradient boosting regression: 477.3388630473095\n"
     ]
    },
    {
     "data": {
      "text/plain": [
       "<matplotlib.collections.PathCollection at 0x271cacdebc8>"
      ]
     },
     "execution_count": 12,
     "metadata": {},
     "output_type": "execute_result"
    },
    {
     "data": {
      "image/png": "[encoded data removed]",
      "text/plain": [
       "<Figure size 432x288 with 1 Axes>"
      ]
     },
     "metadata": {
      "needs_background": "light"
     },
     "output_type": "display_data"
    }
   ],
   "source": [
    "#split the data to train and test data\n",
    "X_train,X_test,y_train,y_test = train_test_split(X,y,test_size=0.3,random_state = 101)\n",
    "#import ensemble object to do gradient boosting regression\n",
    "from sklearn import ensemble\n",
    "#initiate GradientBoostingRegressor\n",
    "gboost_reg = ensemble.GradientBoostingRegressor()\n",
    "#Initiate the pipeline where the preprocessing will happen\n",
    "pipe = Pipeline(steps=[('trans',column_trans),('scaler',StandardScaler()), ('classifier', gboost_reg)])\n",
    "##Parameters :\n",
    "#classifier__n_estimators : how many estimation should happen\n",
    "#classifier_max_depth : max depth of each tree\n",
    "#classifier__learning_rate : learning rate of the classifier which is important to make it balanced.\n",
    "#                            If it is too large than it can overfit \n",
    "param_grid = {'classifier__n_estimators': [567,750],\n",
    "          'classifier__max_depth': [5],\n",
    "          'classifier__min_samples_split': [7],\n",
    "          'classifier__learning_rate': [0.01,0.1]}\n",
    "\n",
    "#Use grid search with GradientBoostingRegressor, param_gid = parameters which will be searched and used, cv will \n",
    "#be equaled to 10 which will be 10 fold cross validation\n",
    "search = GridSearchCV(pipe, param_grid, n_jobs=-1,cv = 10)\n",
    "#Fit the model\n",
    "search.fit(X_train, y_train)\n",
    "\n",
    "print('MAE for Gradient boosting regression:', metrics.mean_absolute_error(y_test, search.predict(X_test)))\n",
    "print('MSE for Gradient boosting regression:', metrics.mean_squared_error(y_test, search.predict(X_test)))\n",
    "print('RMSE for Gradient boosting regression:', np.sqrt(metrics.mean_squared_error(y_test, search.predict(X_test))))\n",
    "plt.title('Gradient boosting regression : Actual values (x values) vs Predicted Values (y values)')\n",
    "plt.scatter(y_test,search.predict(X_test))"
   ]
  },
  {
   "cell_type": "code",
   "execution_count": null,
   "metadata": {},
   "outputs": [],
   "source": []
  },
  {
   "cell_type": "code",
   "execution_count": 13,
   "metadata": {
    "scrolled": true
   },
   "outputs": [
    {
     "name": "stdout",
     "output_type": "stream",
     "text": [
      "MAE for Support vector regression: 287.1743989822622\n",
      "MSE for Support vector regression: 153452.56262418668\n",
      "RMSE for Support vector regression: 391.7302166340844\n"
     ]
    },
    {
     "data": {
      "text/plain": [
       "<matplotlib.collections.PathCollection at 0x271cada4988>"
      ]
     },
     "execution_count": 13,
     "metadata": {},
     "output_type": "execute_result"
    },
    {
     "data": {
      "image/png": "[encoded data removed]",
      "text/plain": [
       "<Figure size 432x288 with 1 Axes>"
      ]
     },
     "metadata": {
      "needs_background": "light"
     },
     "output_type": "display_data"
    }
   ],
   "source": [
    "#split the data to train and test data\n",
    "X_train,X_test,y_train,y_test = train_test_split(X,y,test_size=0.3,random_state = 101)\n",
    "# importing the support vector regression class from svm of scikit learn\n",
    "from sklearn.svm import SVR\n",
    "\n",
    "#Initiate the pipeline where the preprocessing will happen\n",
    "pipe = Pipeline(steps=[('trans',column_trans),('scaler',StandardScaler()), ('classifier', SVR())])\n",
    "# creating a dictionary containing potential values of alpha\n",
    "param_grid = {'classifier__C': [0.1,1, 10, 100, 1000], 'classifier__gamma': [1,0.1,0.01,0.001,0.0001]}\n",
    "#Use grid search with GradientBoostingRegressor, param_gid = parameters which will be searched and used, cv will \n",
    "#be equaled to 10 which will be 10 fold cross validation\n",
    "SVR_reg= GridSearchCV(pipe, param_grid, cv=10 )\n",
    "#Fit the data\n",
    "SVR_reg.fit(X_train,y_train)\n",
    "#Make predictions using X_test of the data\n",
    "predictions= SVR_reg.predict(X_test)\n",
    "#Make assesment of the prediction\n",
    "print('MAE for Support vector regression:', metrics.mean_absolute_error(y_test, predictions))\n",
    "print('MSE for Support vector regression:', metrics.mean_squared_error(y_test, predictions))\n",
    "print('RMSE for Support vector regression:', np.sqrt(metrics.mean_squared_error(y_test, predictions)))\n",
    "plt.title('SVR : Actual values (x values) vs Predicted Values (y values)')\n",
    "plt.scatter(y_test,predictions)"
   ]
  },
  {
   "cell_type": "code",
   "execution_count": 14,
   "metadata": {},
   "outputs": [
    {
     "data": {
      "text/plain": [
       "{'classifier__C': 1000, 'classifier__gamma': 0.01}"
      ]
     },
     "execution_count": 14,
     "metadata": {},
     "output_type": "execute_result"
    }
   ],
   "source": [
    "SVR_reg.best_params_"
   ]
  },
  {
   "cell_type": "code",
   "execution_count": 15,
   "metadata": {},
   "outputs": [],
   "source": [
    "#Get the testing data\n",
    "TestingData = pd.read_csv(\"CE802_P3_Test.csv\")"
   ]
  },
  {
   "cell_type": "code",
   "execution_count": 16,
   "metadata": {},
   "outputs": [],
   "source": [
    "#Create variable which is copy of TestingData\n",
    "TestingData_orig = TestingData.copy()"
   ]
  },
  {
   "cell_type": "code",
   "execution_count": 17,
   "metadata": {},
   "outputs": [],
   "source": [
    "#Get the test data's features\n",
    "X_test = TestingData_orig.drop('Target',axis=1)\n",
    "#Get the testing data's \"Target\" values\n",
    "y_test = TestingData_orig['Target']"
   ]
  },
  {
   "cell_type": "code",
   "execution_count": 18,
   "metadata": {},
   "outputs": [],
   "source": [
    "#Change values in Target columns in TestingData_orig\n",
    "TestingData_orig.loc[:,\"Target\"] =  SVR_reg.predict(X_test)"
   ]
  },
  {
   "cell_type": "code",
   "execution_count": 19,
   "metadata": {},
   "outputs": [],
   "source": [
    "#Save TestingData_orig dataset to computer\n",
    "TestingData_orig.to_csv('output/CE802_P3_Test.csv')"
   ]
  },
  {
   "cell_type": "code",
   "execution_count": null,
   "metadata": {},
   "outputs": [],
   "source": []
  },
  {
   "cell_type": "code",
   "execution_count": null,
   "metadata": {},
   "outputs": [],
   "source": []
  },
  {
   "cell_type": "code",
   "execution_count": null,
   "metadata": {},
   "outputs": [],
   "source": []
  },
  {
   "cell_type": "code",
   "execution_count": null,
   "metadata": {},
   "outputs": [],
   "source": []
  },
  {
   "cell_type": "code",
   "execution_count": null,
   "metadata": {},
   "outputs": [],
   "source": []
  },
  {
   "cell_type": "code",
   "execution_count": null,
   "metadata": {},
   "outputs": [],
   "source": []
  },
  {
   "cell_type": "code",
   "execution_count": null,
   "metadata": {},
   "outputs": [],
   "source": []
  },
  {
   "cell_type": "code",
   "execution_count": null,
   "metadata": {},
   "outputs": [],
   "source": []
  },
  {
   "cell_type": "code",
   "execution_count": null,
   "metadata": {},
   "outputs": [],
   "source": []
  },
  {
   "cell_type": "code",
   "execution_count": null,
   "metadata": {},
   "outputs": [],
   "source": []
  },
  {
   "cell_type": "code",
   "execution_count": null,
   "metadata": {},
   "outputs": [],
   "source": []
  },
  {
   "cell_type": "code",
   "execution_count": null,
   "metadata": {},
   "outputs": [],
   "source": []
  }
 ],
 "metadata": {
  "kernelspec": {
   "display_name": "Python 3",
   "language": "python",
   "name": "python3"
  },
  "language_info": {
   "codemirror_mode": {
    "name": "ipython",
    "version": 3
   },
   "file_extension": ".py",
   "mimetype": "text/x-python",
   "name": "python",
   "nbconvert_exporter": "python",
   "pygments_lexer": "ipython3",
   "version": "3.7.6"
  }
 },
 "nbformat": 4,
 "nbformat_minor": 4
}
